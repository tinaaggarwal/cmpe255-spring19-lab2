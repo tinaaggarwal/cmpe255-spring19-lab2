{
 "cells": [
  {
   "cell_type": "markdown",
   "metadata": {},
   "source": [
    "### Method 1"
   ]
  },
  {
   "cell_type": "code",
   "execution_count": 48,
   "metadata": {},
   "outputs": [],
   "source": [
    "from statistics import mean, median"
   ]
  },
  {
   "cell_type": "code",
   "execution_count": 49,
   "metadata": {},
   "outputs": [],
   "source": [
    "def mean_num_friends(x):\n",
    "    return mean(x)"
   ]
  },
  {
   "cell_type": "code",
   "execution_count": 50,
   "metadata": {},
   "outputs": [],
   "source": [
    "def median_num_friends(x):\n",
    "    return median(x)"
   ]
  },
  {
   "cell_type": "code",
   "execution_count": 51,
   "metadata": {},
   "outputs": [
    {
     "name": "stdout",
     "output_type": "stream",
     "text": [
      "mean=32.81818181818182\n",
      "median=25\n"
     ]
    }
   ],
   "source": [
    "num_friends=[100, 49, 41, 40, 25, 10, 5, 4, 7, 20, 60]\n",
    "print(\"mean={}\".format(mean_num_friends(num_friends)))\n",
    "\n",
    "print(\"median={}\".format(median_num_friends(num_friends)))"
   ]
  },
  {
   "cell_type": "markdown",
   "metadata": {},
   "source": [
    "### Method 2"
   ]
  },
  {
   "cell_type": "code",
   "execution_count": 52,
   "metadata": {},
   "outputs": [],
   "source": [
    "def mean_num_friends(x):\n",
    "    add = 0\n",
    "    num = len(x)\n",
    "    for i in x:\n",
    "        add+=i\n",
    "    mean = add/num\n",
    "    return mean"
   ]
  },
  {
   "cell_type": "code",
   "execution_count": 53,
   "metadata": {},
   "outputs": [],
   "source": [
    "def median_num_friends(x):\n",
    "    num = len(x)\n",
    "    mid1 = int(num/2)\n",
    "    mid2 = int((num/2)+1)\n",
    "    num_friends.sort()\n",
    "    if num%2 == 0:\n",
    "        median = (num_friends[mid1] + num_friends[mid2])/2\n",
    "    else:\n",
    "        median = num_friends[mid1]\n",
    "    return median"
   ]
  },
  {
   "cell_type": "code",
   "execution_count": 54,
   "metadata": {},
   "outputs": [
    {
     "name": "stdout",
     "output_type": "stream",
     "text": [
      "mean=32.81818181818182\n",
      "median=25\n"
     ]
    }
   ],
   "source": [
    "num_friends=[100, 49, 41, 40, 25, 10, 5, 4, 7, 20, 60]\n",
    "\n",
    "print(\"mean={}\".format(mean_num_friends(num_friends)))\n",
    "print(\"median={}\".format(median_num_friends(num_friends)))"
   ]
  },
  {
   "cell_type": "code",
   "execution_count": null,
   "metadata": {},
   "outputs": [],
   "source": []
  }
 ],
 "metadata": {
  "kernelspec": {
   "display_name": "Python 3",
   "language": "python",
   "name": "python3"
  },
  "language_info": {
   "codemirror_mode": {
    "name": "ipython",
    "version": 3
   },
   "file_extension": ".py",
   "mimetype": "text/x-python",
   "name": "python",
   "nbconvert_exporter": "python",
   "pygments_lexer": "ipython3",
   "version": "3.6.5"
  }
 },
 "nbformat": 4,
 "nbformat_minor": 2
}
